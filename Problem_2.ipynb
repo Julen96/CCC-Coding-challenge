{
 "cells": [
  {
   "cell_type": "markdown",
   "metadata": {},
   "source": [
    "# Problem 2\n",
    "\n",
    "### A password is considered strong if below conditions are all met:\n",
    "\n",
    "1. It has at least 6 characters and at most 20 characters.\n",
    "2. It must contain at least one lowercase letter, at least one uppercase letter, and at least one digit\n",
    "3. It must NOT contain three repeating characters in a row (\"...aaa...\" is weak, but \"...aa...a...\" is strong, assuming other conditions are met).\n",
    "\n",
    "### Write a function strongPasswordChecker(s), that takes a string s as input, and returns the MINIMUM change required to make s a strong password. If s is already strong, return 0\n",
    "\n",
    "### Insertion, deletion or replace of any one character are all considered as one change"
   ]
  },
  {
   "cell_type": "markdown",
   "metadata": {},
   "source": [
    "# Test cases"
   ]
  },
  {
   "cell_type": "code",
   "execution_count": 1,
   "metadata": {},
   "outputs": [],
   "source": [
    "def test1():\n",
    "    \n",
    "    input_string = \"aaaaaa\" # Change to \"aa1aaIaa\" to strong\n",
    "    output = 2\n",
    "    \n",
    "    test_passed = output == strongPasswordChecker(input_string)\n",
    "    \n",
    "    if test_passed:\n",
    "        return \"The test has passed\"\n",
    "    else:\n",
    "        return \"The test has failed\""
   ]
  },
  {
   "cell_type": "code",
   "execution_count": 2,
   "metadata": {},
   "outputs": [],
   "source": [
    "def test2():\n",
    "    \n",
    "    input_string = \"aaaaA\" # Change to \"aa1aaA\" to strong\n",
    "    output = 1\n",
    "    \n",
    "    test_passed = output == strongPasswordChecker(input_string)\n",
    "    \n",
    "    if test_passed:\n",
    "        return \"The test has passed\"\n",
    "    else:\n",
    "        return \"The test has failed\""
   ]
  },
  {
   "cell_type": "code",
   "execution_count": 3,
   "metadata": {},
   "outputs": [],
   "source": [
    "def test3():\n",
    "    \n",
    "    input_string = \"AAAAABB98BBBAAAUUEEEEEI\" \n",
    "    output = 5\n",
    "    \n",
    "    test_passed = output == strongPasswordChecker(input_string)\n",
    "    \n",
    "    if test_passed:\n",
    "        return \"The test has passed\"\n",
    "    else:\n",
    "        return \"The test has failed\""
   ]
  },
  {
   "cell_type": "code",
   "execution_count": 4,
   "metadata": {},
   "outputs": [],
   "source": [
    "def test4():\n",
    "    \n",
    "    input_string = \"aaaaaaaaaaaaaa\" \n",
    "    output = 4\n",
    "    \n",
    "    test_passed = output == strongPasswordChecker(input_string)\n",
    "    \n",
    "    if test_passed:\n",
    "        return \"The test has passed\"\n",
    "    else:\n",
    "        return \"The test has failed\""
   ]
  },
  {
   "cell_type": "code",
   "execution_count": 5,
   "metadata": {},
   "outputs": [],
   "source": [
    "def test5():\n",
    "    \n",
    "    input_string = \"abcde\" \n",
    "    output = 2\n",
    "    \n",
    "    test_passed = output == strongPasswordChecker(input_string)\n",
    "    \n",
    "    if test_passed:\n",
    "        return \"The test has passed\"\n",
    "    else:\n",
    "        return \"The test has failed\""
   ]
  },
  {
   "cell_type": "code",
   "execution_count": 6,
   "metadata": {},
   "outputs": [],
   "source": [
    "def test6():\n",
    "    \n",
    "    input_string = \"aaaaaaBBBBBB9999999\" \n",
    "    output = 6\n",
    "    \n",
    "    test_passed = output == strongPasswordChecker(input_string)\n",
    "    \n",
    "    if test_passed:\n",
    "        return \"The test has passed\"\n",
    "    else:\n",
    "        return \"The test has failed\""
   ]
  },
  {
   "cell_type": "code",
   "execution_count": 7,
   "metadata": {},
   "outputs": [],
   "source": [
    "def test7():\n",
    "    \n",
    "    input_string = \"444444iiiiii77774444IIII\" \n",
    "    output = 8\n",
    "    \n",
    "    test_passed = output == strongPasswordChecker(input_string)\n",
    "    \n",
    "    if test_passed:\n",
    "        return \"The test has passed\"\n",
    "    else:\n",
    "        return \"The test has failed\""
   ]
  },
  {
   "cell_type": "code",
   "execution_count": 8,
   "metadata": {},
   "outputs": [],
   "source": [
    "def test8():\n",
    "    \n",
    "    input_string = \"\" \n",
    "    output = 6\n",
    "    \n",
    "    test_passed = output == strongPasswordChecker(input_string)\n",
    "    \n",
    "    if test_passed:\n",
    "        return \"The test has passed\"\n",
    "    else:\n",
    "        return \"The test has failed\""
   ]
  },
  {
   "cell_type": "markdown",
   "metadata": {},
   "source": [
    "# Function\n",
    "\n",
    "\n",
    "#### Assumptions:\n",
    "- \"aaA\" are not three characters in a row"
   ]
  },
  {
   "cell_type": "code",
   "execution_count": 9,
   "metadata": {},
   "outputs": [],
   "source": [
    "def strongPasswordChecker(s):\n",
    "    \"\"\" This function takes a string (password) and returns the amount of changes needed in order to fulfill \n",
    "    the conditions stated in the problem description (make the password strong)\n",
    "    Input: String\n",
    "    Output: Integer\n",
    "    \"\"\"\n",
    "\n",
    "    def count_repeated_chars(s):\n",
    "        \"\"\" This function takes a string and returns a list with the count of the repeated characters, if they are repeated 3 or more times.\n",
    "        Input: String\n",
    "        Output: List of integers\n",
    "        \"\"\"\n",
    "        counter_repeat = []\n",
    "        counter = 1\n",
    "        previous = None\n",
    "\n",
    "        for char in s:\n",
    "\n",
    "            if char == previous:\n",
    "                counter += 1\n",
    "\n",
    "            else:\n",
    "                \n",
    "                if counter >= 3:\n",
    "                    counter_repeat.append(counter)\n",
    "                counter = 1\n",
    "            previous = char\n",
    "\n",
    "        if counter >= 3:\n",
    "            counter_repeat.append(counter)\n",
    "\n",
    "        return counter_repeat\n",
    "\n",
    "    def count_conditions_not_met(s):\n",
    "        \"\"\" This function returns the number of conditions that are met by the string.\n",
    "        Input: String\n",
    "        Output: Integer\n",
    "        \"\"\"\n",
    "    \n",
    "        conditions = [any('a' <= x <= 'z' for x in s), # Lower case\n",
    "                      any('A' <= x <= 'Z' for x in s), # Upper case\n",
    "                      any(x.isdigit() for x in s)] # digits\n",
    "\n",
    "        conditions_not_met = 3 - sum(conditions)\n",
    "\n",
    "        return conditions_not_met\n",
    "\n",
    "\n",
    "\n",
    "    list_replacements = [x // 3 for x in count_repeated_chars(s)]\n",
    "    count_repeats_fix = sum(list_replacements)\n",
    "\n",
    "\n",
    "    if len(s) < 6:\n",
    "        num_changes = max(count_conditions_not_met(s), 6 - len(s))\n",
    "        return num_changes\n",
    "\n",
    "    elif len(s) <= 20:\n",
    "        num_changes = max(count_repeats_fix, count_conditions_not_met(s))\n",
    "        return num_changes\n",
    "\n",
    "    else:\n",
    "        counter = 0\n",
    "        repeated_list = count_repeated_chars(s)\n",
    "        num_delete = len(s) - 20\n",
    "\n",
    "        while counter < num_delete:\n",
    "            need_break = True\n",
    "\n",
    "            for i in range(len(repeated_list)):\n",
    "                repeat = [elem for elem in repeated_list if elem >= 3]\n",
    "\n",
    "                if not repeat:\n",
    "                    break\n",
    "\n",
    "                repeat_deletions_needed_min = min(repeat, key=lambda x: x % 3)\n",
    "\n",
    "                if repeated_list[i] == repeat_deletions_needed_min:\n",
    "                    repeated_list[i] -= 1\n",
    "                    counter += 1\n",
    "                    need_break = False\n",
    "\n",
    "                    if counter >= num_delete:\n",
    "                        break\n",
    "\n",
    "            if need_break:\n",
    "                break\n",
    "\n",
    "        left_repeats = sum(c // 3 for c in repeated_list)\n",
    "        num_changes = max(left_repeats, count_conditions_not_met(s)) + num_delete\n",
    "        return num_changes"
   ]
  },
  {
   "cell_type": "markdown",
   "metadata": {},
   "source": [
    "# Comprobation"
   ]
  },
  {
   "cell_type": "code",
   "execution_count": 10,
   "metadata": {},
   "outputs": [
    {
     "name": "stdout",
     "output_type": "stream",
     "text": [
      "The test has passed\n",
      "The test has passed\n",
      "The test has passed\n",
      "The test has passed\n",
      "The test has passed\n",
      "The test has passed\n",
      "The test has passed\n",
      "The test has passed\n"
     ]
    }
   ],
   "source": [
    "print(test1())\n",
    "print(test2())\n",
    "print(test3())\n",
    "print(test4())\n",
    "print(test5())\n",
    "print(test6())\n",
    "print(test7())\n",
    "print(test8())"
   ]
  }
 ],
 "metadata": {
  "kernelspec": {
   "display_name": "Python 3",
   "language": "python",
   "name": "python3"
  },
  "language_info": {
   "codemirror_mode": {
    "name": "ipython",
    "version": 3
   },
   "file_extension": ".py",
   "mimetype": "text/x-python",
   "name": "python",
   "nbconvert_exporter": "python",
   "pygments_lexer": "ipython3",
   "version": "3.7.4"
  }
 },
 "nbformat": 4,
 "nbformat_minor": 4
}
