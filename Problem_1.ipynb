{
 "cells": [
  {
   "cell_type": "markdown",
   "metadata": {},
   "source": [
    "# Problem 1\n",
    "\n",
    "### Given an array of lined-lists lists, each linked list is sorted in ascending order. Merge all the linked-lists into one sort linked-list and return it"
   ]
  },
  {
   "cell_type": "markdown",
   "metadata": {},
   "source": [
    "## Tests"
   ]
  },
  {
   "cell_type": "code",
   "execution_count": 1,
   "metadata": {},
   "outputs": [],
   "source": [
    "def test1():\n",
    "    \n",
    "    input_list = [[1,4,5], [1,3,4], [2,6]]\n",
    "    output_list = [1,1,2,3,4,4,5,6]\n",
    "    \n",
    "    test_passed = output_list == MergeLinkedLists(input_list)\n",
    "    \n",
    "    if test_passed:\n",
    "        return \"The test has passed\"\n",
    "    else:\n",
    "        return \"The test has failed\""
   ]
  },
  {
   "cell_type": "code",
   "execution_count": 2,
   "metadata": {},
   "outputs": [],
   "source": [
    "def test2():\n",
    "    \n",
    "    input_list = []\n",
    "    output_list = []\n",
    "    \n",
    "    test_passed = output_list == MergeLinkedLists(input_list)\n",
    "    \n",
    "    if test_passed:\n",
    "        return \"The test has passed\"\n",
    "    else:\n",
    "        return \"The test has failed\""
   ]
  },
  {
   "cell_type": "code",
   "execution_count": 3,
   "metadata": {},
   "outputs": [],
   "source": [
    "def test3():\n",
    "    \n",
    "    input_list = [[]]\n",
    "    output_list = []\n",
    "    \n",
    "    test_passed = output_list == MergeLinkedLists(input_list)\n",
    "    \n",
    "    if test_passed:\n",
    "        return \"The test has passed\"\n",
    "    else:\n",
    "        return \"The test has failed\""
   ]
  },
  {
   "cell_type": "code",
   "execution_count": 4,
   "metadata": {},
   "outputs": [],
   "source": [
    "def test4():\n",
    "    \n",
    "    input_list = [[1,2,3], [1,2,4], []]\n",
    "    output_list = [1,1,2,2,3,4]\n",
    "    \n",
    "    test_passed = output_list == MergeLinkedLists(input_list)\n",
    "    \n",
    "    if test_passed:\n",
    "        return \"The test has passed\"\n",
    "    else:\n",
    "        return \"The test has failed\""
   ]
  },
  {
   "cell_type": "code",
   "execution_count": 5,
   "metadata": {},
   "outputs": [],
   "source": [
    "def test5():\n",
    "    \n",
    "    input_list = [[1,2,3]]\n",
    "    output_list = [1,2,3]\n",
    "    \n",
    "    test_passed = output_list == MergeLinkedLists(input_list)\n",
    "    \n",
    "    if test_passed:\n",
    "        return \"The test has passed\"\n",
    "    else:\n",
    "        return \"The test has failed\""
   ]
  },
  {
   "cell_type": "code",
   "execution_count": 6,
   "metadata": {},
   "outputs": [],
   "source": [
    "def test6():\n",
    "    \n",
    "    input_list = [[1,2,3], [1,1,1,1,1,1]]\n",
    "    output_list = [1,1,1,1,1,1,1,2,3]\n",
    "    \n",
    "    test_passed = output_list == MergeLinkedLists(input_list)\n",
    "    \n",
    "    if test_passed:\n",
    "        return \"The test has passed\"\n",
    "    else:\n",
    "        return \"The test has failed\""
   ]
  },
  {
   "cell_type": "code",
   "execution_count": 7,
   "metadata": {},
   "outputs": [],
   "source": [
    "def test7():\n",
    "    \n",
    "    input_list = [[], [], [], []]\n",
    "    output_list = []\n",
    "    \n",
    "    test_passed = output_list == MergeLinkedLists(input_list)\n",
    "    \n",
    "    if test_passed:\n",
    "        return \"The test has passed\"\n",
    "    else:\n",
    "        return \"The test has failed\""
   ]
  },
  {
   "cell_type": "code",
   "execution_count": 8,
   "metadata": {},
   "outputs": [],
   "source": [
    "def test8():\n",
    "    \n",
    "    input_list = [[1,2,3], [2,4,6,8,9,10]]\n",
    "    output_list = [1,2,2,3,4,6,8,9,10]\n",
    "    \n",
    "    test_passed = output_list == MergeLinkedLists(input_list)\n",
    "    \n",
    "    if test_passed:\n",
    "        return \"The test has passed\"\n",
    "    else:\n",
    "        return \"The test has failed\""
   ]
  },
  {
   "cell_type": "code",
   "execution_count": 9,
   "metadata": {},
   "outputs": [],
   "source": [
    "def test9():\n",
    "    \n",
    "    input_list = [[1], [], [2,3,4]]\n",
    "    output_list = [1,2,3,4]\n",
    "    \n",
    "    test_passed = output_list == MergeLinkedLists(input_list)\n",
    "    \n",
    "    if test_passed:\n",
    "        return \"The test has passed\"\n",
    "    else:\n",
    "        return \"The test has failed\""
   ]
  },
  {
   "cell_type": "code",
   "execution_count": 10,
   "metadata": {},
   "outputs": [],
   "source": [
    "def test10():\n",
    "    \n",
    "    input_list = [[1], [0], [2], [], []]\n",
    "    output_list = [0,1,2]\n",
    "    \n",
    "    test_passed = output_list == MergeLinkedLists(input_list)\n",
    "    \n",
    "    if test_passed:\n",
    "        return \"The test has passed\"\n",
    "    else:\n",
    "        return \"The test has failed\""
   ]
  },
  {
   "cell_type": "markdown",
   "metadata": {},
   "source": [
    "## Function"
   ]
  },
  {
   "cell_type": "code",
   "execution_count": 11,
   "metadata": {},
   "outputs": [],
   "source": [
    "def MergeLinkedLists(linkedLists):\n",
    "    \"\"\" This function Merges the given linked-lists into a single linked-list, ordering \n",
    "    the input numbers in ascending order\n",
    "    \n",
    "    Input: List of Integer ordered linked lists\n",
    "    \n",
    "    Output: List of Integers ordered in ascending order\n",
    "    \"\"\"\n",
    "    \n",
    "    new_list = []\n",
    "    len_lists = len(linkedLists)\n",
    "    pointers = [0] * len_lists # Pointers to the integer inside each linked list\n",
    "\n",
    "    \n",
    "    strikes = 0 # Number of linked lists that are done \n",
    "    \n",
    "    while strikes < len_lists:\n",
    "        strikes = 0\n",
    "        \n",
    "        # Initialize the variables to numbers higher than the accepted ones.\n",
    "        minimum = 10**5\n",
    "        minimum_pointer = 10**5\n",
    "        \n",
    "        for i, one_list in enumerate(linkedLists):\n",
    "\n",
    "            if one_list == []:\n",
    "                strikes += 1\n",
    "                \n",
    "            else:\n",
    "                pointer_i = pointers[i]\n",
    "                \n",
    "                if pointer_i == len(one_list):\n",
    "                    \n",
    "                    strikes += 1\n",
    "                    \n",
    "                elif one_list[pointer_i] < minimum:\n",
    "                    \n",
    "                    minimum = one_list[pointer_i]\n",
    "                    minimum_pointer = i\n",
    "                    \n",
    "        if strikes < len_lists:\n",
    "            \n",
    "            new_list.append(minimum)\n",
    "            pointers[minimum_pointer] += 1\n",
    "\n",
    "\n",
    "                    \n",
    "    return new_list"
   ]
  },
  {
   "cell_type": "markdown",
   "metadata": {},
   "source": [
    "## Comprobation"
   ]
  },
  {
   "cell_type": "code",
   "execution_count": 12,
   "metadata": {},
   "outputs": [
    {
     "name": "stdout",
     "output_type": "stream",
     "text": [
      "The test has passed\n",
      "The test has passed\n",
      "The test has passed\n",
      "The test has passed\n",
      "The test has passed\n",
      "The test has passed\n",
      "The test has passed\n",
      "The test has passed\n",
      "The test has passed\n",
      "The test has passed\n"
     ]
    }
   ],
   "source": [
    "print(test1())\n",
    "print(test2())\n",
    "print(test3())\n",
    "print(test4())\n",
    "print(test5())\n",
    "print(test6())\n",
    "print(test7())\n",
    "print(test8())\n",
    "print(test9())\n",
    "print(test10())"
   ]
  },
  {
   "cell_type": "markdown",
   "metadata": {},
   "source": [
    "# Linked List Function"
   ]
  },
  {
   "cell_type": "code",
   "execution_count": 1,
   "metadata": {},
   "outputs": [],
   "source": [
    "# Definition for singly-linked list.\n",
    "class ListNode(object):\n",
    "    def __init__(self, val=0, next=None):\n",
    "        self.val = val\n",
    "        self.next = next\n",
    "\n",
    "def mergeKLists(lists):\n",
    "    \"\"\" This function takes a list of ListNodes and returns a single ListNode, in which all the values of\n",
    "    the input ListNodes are merged in ascending order.\n",
    "    Input: List[ListNode]\n",
    "    Output: ListNode\n",
    "    \"\"\"\n",
    "    numbers = []\n",
    "    dummy = ListNode(0)\n",
    "    p = dummy\n",
    "\n",
    "    # First we get all the nodes of the Linked List into the \"numbers\" variable\n",
    "    for nodelist in lists:\n",
    "        while nodelist: # If it is not empty and not none\n",
    "            numbers.append(nodelist)\n",
    "            nodelist = nodelist.next\n",
    "\n",
    "    # Now we sort all the values of the nodes inside \"numbers\"\n",
    "    for i in sorted(numbers, key = lambda nodelist: nodelist.val):\n",
    "        p.next = i\n",
    "        p = p.next\n",
    "\n",
    "    return dummy.next"
   ]
  },
  {
   "cell_type": "markdown",
   "metadata": {},
   "source": [
    "# Comprobation"
   ]
  },
  {
   "cell_type": "code",
   "execution_count": 37,
   "metadata": {},
   "outputs": [],
   "source": [
    "def test1():\n",
    "    \n",
    "    L1 = ListNode(1, ListNode(4, ListNode(5, None)))\n",
    "    L2 = ListNode(1, ListNode(3, ListNode(4, None)))\n",
    "    L3 = ListNode(2, ListNode(6))\n",
    "    nodelist = mergeKLists([L1,L2,L3])\n",
    "    \n",
    "    final_list = []\n",
    "    while nodelist:\n",
    "        final_list.append(nodelist.val)\n",
    "        nodelist = nodelist.next\n",
    "    \n",
    "    ret_list = [1, 1, 2, 3, 4, 4, 5, 6]\n",
    "    \n",
    "    for i in range(len(final_list)):\n",
    "        if ret_list[i] != final_list[i]:\n",
    "            return \"The test has failed\"\n",
    "        \n",
    "    return \"The test has passed\"\n",
    "    \n"
   ]
  },
  {
   "cell_type": "code",
   "execution_count": 42,
   "metadata": {},
   "outputs": [],
   "source": [
    "def test2():\n",
    "    \n",
    "    L1 = ListNode(1, ListNode(4, ListNode(5, None)))\n",
    "    L2 = []\n",
    "    L3 = ListNode(2, ListNode(6))\n",
    "    nodelist = mergeKLists([L1,L2,L3])\n",
    "    \n",
    "    final_list = []\n",
    "    while nodelist:\n",
    "        final_list.append(nodelist.val)\n",
    "        nodelist = nodelist.next\n",
    "        \n",
    "    ret_list = [1,2,4,5,6]\n",
    "        \n",
    "    for i in range(len(final_list)):\n",
    "        if ret_list[i] != final_list[i]:\n",
    "            return \"The test has failed\"\n",
    "        \n",
    "    return \"The test has passed\""
   ]
  },
  {
   "cell_type": "code",
   "execution_count": 43,
   "metadata": {},
   "outputs": [
    {
     "name": "stdout",
     "output_type": "stream",
     "text": [
      "The test has passed\n",
      "The test has passed\n"
     ]
    }
   ],
   "source": [
    "print(test1())\n",
    "print(test2())"
   ]
  }
 ],
 "metadata": {
  "kernelspec": {
   "display_name": "Python 3",
   "language": "python",
   "name": "python3"
  },
  "language_info": {
   "codemirror_mode": {
    "name": "ipython",
    "version": 3
   },
   "file_extension": ".py",
   "mimetype": "text/x-python",
   "name": "python",
   "nbconvert_exporter": "python",
   "pygments_lexer": "ipython3",
   "version": "3.7.4"
  }
 },
 "nbformat": 4,
 "nbformat_minor": 4
}
