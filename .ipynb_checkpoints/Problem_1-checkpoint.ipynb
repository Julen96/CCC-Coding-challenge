{
 "cells": [
  {
   "cell_type": "markdown",
   "metadata": {},
   "source": [
    "# Problem 1\n",
    "\n",
    "### Given an array of lined-lists lists, each linked list is sorted in ascending order. Merge all the linked-lists into one sort linked-list and return it"
   ]
  },
  {
   "cell_type": "markdown",
   "metadata": {},
   "source": [
    "## Tests"
   ]
  },
  {
   "cell_type": "code",
   "execution_count": 1,
   "metadata": {},
   "outputs": [],
   "source": [
    "def test1():\n",
    "    \n",
    "    input_list = [[1,4,5], [1,3,4], [2,6]]\n",
    "    output_list = [1,1,2,3,4,4,5,6]\n",
    "    \n",
    "    test_passed = output_list == MergeLinkedLists(input_list)\n",
    "    \n",
    "    if test_passed:\n",
    "        return \"The test has passed\"\n",
    "    else:\n",
    "        return \"The test has failed\""
   ]
  },
  {
   "cell_type": "code",
   "execution_count": 2,
   "metadata": {},
   "outputs": [],
   "source": [
    "def test2():\n",
    "    \n",
    "    input_list = []\n",
    "    output_list = []\n",
    "    \n",
    "    test_passed = output_list == MergeLinkedLists(input_list)\n",
    "    \n",
    "    if test_passed:\n",
    "        return \"The test has passed\"\n",
    "    else:\n",
    "        return \"The test has failed\""
   ]
  },
  {
   "cell_type": "code",
   "execution_count": 3,
   "metadata": {},
   "outputs": [],
   "source": [
    "def test3():\n",
    "    \n",
    "    input_list = [[]]\n",
    "    output_list = []\n",
    "    \n",
    "    test_passed = output_list == MergeLinkedLists(input_list)\n",
    "    \n",
    "    if test_passed:\n",
    "        return \"The test has passed\"\n",
    "    else:\n",
    "        return \"The test has failed\""
   ]
  },
  {
   "cell_type": "code",
   "execution_count": 4,
   "metadata": {},
   "outputs": [],
   "source": [
    "def test4():\n",
    "    \n",
    "    input_list = [[1,2,3], [1,2,4], []]\n",
    "    output_list = [1,1,2,2,3,4]\n",
    "    \n",
    "    test_passed = output_list == MergeLinkedLists(input_list)\n",
    "    \n",
    "    if test_passed:\n",
    "        return \"The test has passed\"\n",
    "    else:\n",
    "        return \"The test has failed\""
   ]
  },
  {
   "cell_type": "code",
   "execution_count": 5,
   "metadata": {},
   "outputs": [],
   "source": [
    "def test5():\n",
    "    \n",
    "    input_list = [[1,2,3]]\n",
    "    output_list = [1,2,3]\n",
    "    \n",
    "    test_passed = output_list == MergeLinkedLists(input_list)\n",
    "    \n",
    "    if test_passed:\n",
    "        return \"The test has passed\"\n",
    "    else:\n",
    "        return \"The test has failed\""
   ]
  },
  {
   "cell_type": "markdown",
   "metadata": {},
   "source": [
    "## Function"
   ]
  },
  {
   "cell_type": "code",
   "execution_count": 65,
   "metadata": {},
   "outputs": [],
   "source": [
    "def MergeLinkedLists(linkedLists):\n",
    "    \n",
    "    new_list = []\n",
    "    len_lists = len(linkedLists)\n",
    "    pointers = [0] * len_lists\n",
    "\n",
    "    \n",
    "    strikes = 0 # Number of Linked Lists that are finished\n",
    "    \n",
    "    while strikes < len_lists:\n",
    "        strikes = 0\n",
    "        \n",
    "        minimum = 10**5\n",
    "        minimum_pointer = 10**5\n",
    "        \n",
    "        for i, one_list in enumerate(linkedLists):\n",
    "\n",
    "            if one_list == []:\n",
    "                strikes += 1\n",
    "                \n",
    "            else:\n",
    "                pointer_i = pointers[i]\n",
    "                \n",
    "                if pointer_i == len(one_list):\n",
    "                    \n",
    "                    strikes += 1\n",
    "                    \n",
    "                elif one_list[pointer_i] < minimum:\n",
    "                    \n",
    "                    minimum = one_list[pointer_i]\n",
    "                    minimum_pointer = i\n",
    "                    \n",
    "        if strikes < len_lists:\n",
    "            \n",
    "            new_list.append(minimum)\n",
    "            pointers[minimum_pointer] += 1\n",
    "\n",
    "\n",
    "                    \n",
    "    return new_list"
   ]
  },
  {
   "cell_type": "code",
   "execution_count": 66,
   "metadata": {},
   "outputs": [
    {
     "data": {
      "text/plain": [
       "[1, 2, 3, 4, 4, 5]"
      ]
     },
     "execution_count": 66,
     "metadata": {},
     "output_type": "execute_result"
    }
   ],
   "source": [
    "MergeLinkedLists([[1,4,4], [2,3,5]])"
   ]
  },
  {
   "cell_type": "markdown",
   "metadata": {},
   "source": [
    "## Comprobation"
   ]
  },
  {
   "cell_type": "code",
   "execution_count": 67,
   "metadata": {},
   "outputs": [
    {
     "name": "stdout",
     "output_type": "stream",
     "text": [
      "The test has passed\n",
      "The test has passed\n",
      "The test has passed\n",
      "The test has passed\n",
      "The test has passed\n"
     ]
    }
   ],
   "source": [
    "print(test1())\n",
    "print(test2())\n",
    "print(test3())\n",
    "print(test4())\n",
    "print(test5())"
   ]
  },
  {
   "cell_type": "code",
   "execution_count": null,
   "metadata": {},
   "outputs": [],
   "source": []
  }
 ],
 "metadata": {
  "kernelspec": {
   "display_name": "Python 3",
   "language": "python",
   "name": "python3"
  },
  "language_info": {
   "codemirror_mode": {
    "name": "ipython",
    "version": 3
   },
   "file_extension": ".py",
   "mimetype": "text/x-python",
   "name": "python",
   "nbconvert_exporter": "python",
   "pygments_lexer": "ipython3",
   "version": "3.7.4"
  }
 },
 "nbformat": 4,
 "nbformat_minor": 4
}
